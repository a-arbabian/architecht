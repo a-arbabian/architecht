{
 "cells": [
  {
   "cell_type": "code",
   "execution_count": 1,
   "id": "55f69ab4-1c88-4897-9602-0a8888fdd9f4",
   "metadata": {},
   "outputs": [],
   "source": [
    "import torch\n",
    "import torch.nn as nn\n",
    "import torch.nn.functional as F\n",
    "from MoE_base import MoE"
   ]
  },
  {
   "cell_type": "code",
   "execution_count": 2,
   "id": "4faf4b21-bef9-4833-8265-ad2f02b9eccd",
   "metadata": {},
   "outputs": [],
   "source": [
    "from torch.utils.data import DataLoader\n",
    "from datasets import load_dataset\n",
    "from transformers import AutoTokenizer"
   ]
  },
  {
   "cell_type": "code",
   "execution_count": 3,
   "id": "080de566-be57-4d35-9e08-7db82d87343b",
   "metadata": {},
   "outputs": [],
   "source": [
    "# Dataset Class Labels:\n",
    "# 1: World | 2: Sports | 3: Business | 4: Sci/Tech\n",
    "# Inputs are news article titles\n",
    "dataset = load_dataset(\"ag_news\")\n",
    "tokenizer = AutoTokenizer.from_pretrained(\"distilbert-base-uncased\")"
   ]
  },
  {
   "cell_type": "code",
   "execution_count": 4,
   "id": "a4073382-cd9d-4cc1-84d6-0514c7131be1",
   "metadata": {},
   "outputs": [
    {
     "data": {
      "application/vnd.jupyter.widget-view+json": {
       "model_id": "78dd3ac7f5ad43dcbd1be1d2155810de",
       "version_major": 2,
       "version_minor": 0
      },
      "text/plain": [
       "Map:   0%|          | 0/120000 [00:00<?, ? examples/s]"
      ]
     },
     "metadata": {},
     "output_type": "display_data"
    },
    {
     "data": {
      "application/vnd.jupyter.widget-view+json": {
       "model_id": "ba35a38486e94fa2ac2d9f63d721c912",
       "version_major": 2,
       "version_minor": 0
      },
      "text/plain": [
       "Map:   0%|          | 0/7600 [00:00<?, ? examples/s]"
      ]
     },
     "metadata": {},
     "output_type": "display_data"
    }
   ],
   "source": [
    "input_dim = 128\n",
    "def tokenize(example):\n",
    "    return tokenizer(example[\"text\"], \n",
    "                     padding=\"max_length\", \n",
    "                     truncation=True,\n",
    "                     max_length=input_dim)\n",
    "\n",
    "dataset = dataset.map(tokenize, batched=True)\n",
    "dataset.set_format(type=\"torch\", columns=[\"input_ids\", \"label\"])"
   ]
  },
  {
   "cell_type": "code",
   "execution_count": 5,
   "id": "b8793465-714e-4eed-9008-affa87987718",
   "metadata": {},
   "outputs": [],
   "source": [
    "batch_size = 32\n",
    "train_loader = DataLoader(dataset['train'], batch_size=batch_size, shuffle=True)\n",
    "test_loader = DataLoader(dataset['test'], batch_size=batch_size)\n",
    "num_classes = 4"
   ]
  },
  {
   "cell_type": "code",
   "execution_count": 6,
   "id": "cba10e54-abc0-4573-8881-17f3f07413e0",
   "metadata": {},
   "outputs": [],
   "source": [
    "device = torch.device(\"cuda\" if torch.cuda.is_available() else \"cpu\")\n",
    "model = MoE(num_experts=num_classes, input_dim=input_dim, output_dim=num_classes).to(device)\n",
    "criterion = nn.CrossEntropyLoss()\n",
    "optimizer = torch.optim.Adam(model.parameters(), \n",
    "                             lr=0.1)\n",
    "scheduler = torch.optim.lr_scheduler.ReduceLROnPlateau(\n",
    "    optimizer,\n",
    "    'min',\n",
    "    patience=2,\n",
    "    threshold=1e-2\n",
    ")\n"
   ]
  },
  {
   "cell_type": "markdown",
   "id": "22347adc-295a-4431-a27e-63451069c510",
   "metadata": {},
   "source": [
    "### Training Loop"
   ]
  },
  {
   "cell_type": "code",
   "execution_count": null,
   "id": "37cf8aa4-5284-4797-b8cc-f76a3d233fab",
   "metadata": {},
   "outputs": [
    {
     "name": "stdout",
     "output_type": "stream",
     "text": [
      "scheduler.get_last_lr()=[0.1]\n",
      "Epoch 1/10, Loss: 71.3735\n",
      "scheduler.get_last_lr()=[0.1]\n",
      "Epoch 2/10, Loss: 1.3937\n",
      "scheduler.get_last_lr()=[0.1]\n",
      "Epoch 3/10, Loss: 1.3934\n",
      "scheduler.get_last_lr()=[0.1]\n",
      "Epoch 4/10, Loss: 1.3933\n"
     ]
    }
   ],
   "source": [
    "epochs = 10\n",
    "for epoch in range(epochs):\n",
    "    model.train()\n",
    "    total_loss = 0\n",
    "    for batch in train_loader:\n",
    "        inputs, labels = batch[\"input_ids\"].to(device), batch[\"label\"].to(device)\n",
    "        \n",
    "        optimizer.zero_grad()\n",
    "        outputs = model(inputs.float())  # Convert input_ids to float for dense layers\n",
    "        loss = criterion(outputs, labels)\n",
    "        loss.backward()\n",
    "        optimizer.step()\n",
    "\n",
    "        total_loss += loss.item()\n",
    "\n",
    "    scheduler.step(loss)\n",
    "    print(f\"{scheduler.get_last_lr()=}\")\n",
    "        \n",
    "\n",
    "    print(f\"Epoch {epoch+1}/{epochs}, Loss: {total_loss / len(train_loader):.4f}\")"
   ]
  },
  {
   "cell_type": "markdown",
   "id": "0d0b2edd-3dad-4c9e-b67c-b3e36e092561",
   "metadata": {},
   "source": [
    "### Evaluation"
   ]
  },
  {
   "cell_type": "code",
   "execution_count": 61,
   "id": "5f7cf5a2-8109-4cdf-99b0-a2dd9842b3a3",
   "metadata": {},
   "outputs": [
    {
     "name": "stdout",
     "output_type": "stream",
     "text": [
      "Test Accuracy: 0.2500\n"
     ]
    }
   ],
   "source": [
    "model.eval()\n",
    "correct = 0\n",
    "total = 0\n",
    "with torch.no_grad():\n",
    "    for batch in test_loader:\n",
    "        inputs, labels = batch[\"input_ids\"].to(device), batch[\"label\"].to(device)\n",
    "        outputs = model(inputs.float())\n",
    "        predictions = torch.argmax(outputs, dim=1)\n",
    "        correct += (predictions == labels).sum().item()\n",
    "        total += labels.size(0)\n",
    "\n",
    "accuracy = correct / total\n",
    "print(f\"Test Accuracy: {accuracy:.4f}\")"
   ]
  },
  {
   "cell_type": "code",
   "execution_count": null,
   "id": "9371abcd-0c97-4568-9622-b9123bd58ace",
   "metadata": {},
   "outputs": [],
   "source": []
  }
 ],
 "metadata": {
  "kernelspec": {
   "display_name": "Python 3 (ipykernel)",
   "language": "python",
   "name": "python3"
  },
  "language_info": {
   "codemirror_mode": {
    "name": "ipython",
    "version": 3
   },
   "file_extension": ".py",
   "mimetype": "text/x-python",
   "name": "python",
   "nbconvert_exporter": "python",
   "pygments_lexer": "ipython3",
   "version": "3.12.8"
  }
 },
 "nbformat": 4,
 "nbformat_minor": 5
}
